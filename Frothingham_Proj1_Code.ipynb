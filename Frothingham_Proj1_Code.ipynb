{
 "cells": [
  {
   "cell_type": "code",
   "execution_count": null,
   "metadata": {},
   "outputs": [],
   "source": [
    "# import statements\n",
    "import numpy as np\n",
    "import scipy.stats as stats\n",
    "import matplotlib.pyplot as plt\n",
    "%matplotlib inline"
   ]
  },
  {
   "cell_type": "code",
   "execution_count": null,
   "metadata": {},
   "outputs": [],
   "source": [
    "# arrays to store data from original plot\n",
    "\n",
    "# original x-axis\n",
    "years = np.arange(1, 20)  # years since data collected \n",
    "\n",
    "# new y-axis tick marks\n",
    "percents = np.arange(0, 110, 10) # 0% through 100% by tens\n",
    "\n",
    "# original data (cumulative percentages)\n",
    "zero_plus = 100*np.ones(19)\n",
    "one_plus = np.array([10, 36, 60, 74, 81, 85, 87, 90, 91, 92, 93, 93, 94, 95, 95, 95, 96, 96, 95])\n",
    "two_plus = np.array([3, 13, 29, 43, 53, 62, 66, 70, 74, 77, 80, 82, 84, 86, 87, 88, 89, 90, 88])\n",
    "three_plus = np.array([1, 6, 16, 27, 36, 44, 51, 55, 59, 64, 68, 70, 73, 75, 77, 77, 81, 83, 82])\n",
    "four_plus = np.array([0, 3, 10, 19, 26, 33, 39, 43, 48, 53, 58, 61, 64, 67, 68, 69, 73, 76, 75])\n",
    "\n",
    "# new data (exact percentages)\n",
    "zero = np.array([90, 64, 40, 26, 19, 15, 13, 10, 9, 8, 7, 7, 6, 5, 5, 5, 4, 4, 5])\n",
    "one = np.array([7, 13, 31, 31, 28, 23, 21, 20, 17, 15, 13, 11, 10, 9, 8, 7, 7, 6, 7])\n",
    "two = np.array([2, 7, 13, 16, 17, 18, 15, 15, 15, 13, 12, 12, 11, 11, 10, 11, 8, 7, 6])\n",
    "three = np.array([1, 3, 6, 8, 10, 11, 12, 12, 11, 11, 10, 9, 9, 8, 9, 8, 8, 7, 7])"
   ]
  },
  {
   "cell_type": "code",
   "execution_count": null,
   "metadata": {},
   "outputs": [],
   "source": [
    "# generate redesigned plot\n",
    "\n",
    "plt.rc('font',family='monospace') # change font for all text\n",
    "plt.rc('lines', markersize=10) # set size for all data markers\n",
    "plt.rc('lines', linewidth=0.7) # set linewidth for plotted lines\n",
    "\n",
    "plt.figure(figsize=(10,7)) # create figure, adjust proportions\n",
    "\n",
    "# title, labels, tick marks\n",
    "plt.title('Percent of total data published against data age', size=20)\n",
    "plt.xlabel('Years since data collected', size=15)\n",
    "plt.ylabel('Percent of total data', size=15)\n",
    "plt.xticks(years, size=12)\n",
    "plt.yticks(percents, size=12)\n",
    "\n",
    "# plot each population with distinct color and label\n",
    "plt.plot(years, zero,'b.-',label='0 pubs')\n",
    "plt.plot(years, one,'c.-',label='1 pubs')\n",
    "plt.plot(years, two,'g.-',label='2 pubs')\n",
    "plt.plot(years, three,'y.-',label='3 pubs')\n",
    "plt.plot(years, four_plus,'m.-', label='4+ pubs')\n",
    "\n",
    "# finishing touches\n",
    "plt.grid(lw=0.3) # adjust lineweight to avoid covering up data\n",
    "plt.legend(frameon=False)"
   ]
  }
 ],
 "metadata": {
  "kernelspec": {
   "display_name": "Python 3",
   "language": "python",
   "name": "python3"
  },
  "language_info": {
   "codemirror_mode": {
    "name": "ipython",
    "version": 3
   },
   "file_extension": ".py",
   "mimetype": "text/x-python",
   "name": "python",
   "nbconvert_exporter": "python",
   "pygments_lexer": "ipython3",
   "version": "3.7.3"
  }
 },
 "nbformat": 4,
 "nbformat_minor": 2
}
