{
 "cells": [
  {
   "cell_type": "markdown",
   "metadata": {
    "id": "Vv96kModLL5G"
   },
   "source": [
    "***Jay Frothingham***"
   ]
  },
  {
   "cell_type": "markdown",
   "metadata": {
    "id": "UV8r9klv0kUB"
   },
   "source": [
    "# Final Project"
   ]
  },
  {
   "cell_type": "markdown",
   "metadata": {
    "id": "GjivHkwgIgyX"
   },
   "source": [
    "____"
   ]
  },
  {
   "cell_type": "markdown",
   "metadata": {
    "id": "jFl8Q3n50T5j"
   },
   "source": [
    "Dataset source: [JPL Solar System Dynamics Databse](https://ssd.jpl.nasa.gov/?phys_data)"
   ]
  },
  {
   "cell_type": "markdown",
   "metadata": {},
   "source": [
    "## Setup"
   ]
  },
  {
   "cell_type": "code",
   "execution_count": null,
   "metadata": {},
   "outputs": [],
   "source": [
    "# import statements\n",
    "import pandas as pd\n",
    "import numpy as np\n",
    "import scipy.optimize as opt\n",
    "from scipy.optimize import curve_fit\n",
    "import matplotlib.pyplot as plt\n",
    "%matplotlib inline\n",
    "import scipy.stats as stats\n",
    "import seaborn as sb # a new plotting library"
   ]
  },
  {
   "cell_type": "code",
   "execution_count": null,
   "metadata": {},
   "outputs": [],
   "source": [
    "# these set the pandas defaults so that it will print ALL values, even for very long lists and large dataframes\n",
    "pd.set_option('display.max_columns', None)\n",
    "pd.set_option('display.max_rows', None)"
   ]
  },
  {
   "cell_type": "code",
   "execution_count": null,
   "metadata": {},
   "outputs": [],
   "source": [
    "# filtering function\n",
    "def filter(dataframe, col_name, value):\n",
    "    \"\"\"\n",
    "    This function takes a dataframe, column name, and value.\n",
    "    Returns a new dataframe that only includes rows where col_name==value.\n",
    "    \"\"\"\n",
    "    filtered = dataframe[(dataframe[col_name]==value)]\n",
    "    \n",
    "    return filtered"
   ]
  },
  {
   "cell_type": "code",
   "execution_count": null,
   "metadata": {},
   "outputs": [],
   "source": [
    "## read in the dataset here\n",
    "data = pd.read_csv('comet_data.csv')\n",
    "print(data.shape)\n",
    "\n",
    "# print first few rows as a test\n",
    "data[0:3]"
   ]
  },
  {
   "cell_type": "markdown",
   "metadata": {},
   "source": [
    "## Basic info and data dictionary"
   ]
  },
  {
   "cell_type": "code",
   "execution_count": null,
   "metadata": {},
   "outputs": [],
   "source": [
    "# what columns does this dataset include?\n",
    "data.columns"
   ]
  },
  {
   "cell_type": "markdown",
   "metadata": {},
   "source": [
    "| Column Name | Quantity | Variable Type | Units or Number | How Derived/Notes |\n",
    "| :---        |    :---   |   :--- | : --- | :--- |\n",
    "| e           | Eccentricity | Numerical | unitless | how non-circular the orbit is |\n",
    "| q           | Perihelion distance | Numerical | astronomical units (au) | nearest approach to the sun |\n",
    "| i           | Inclination | Numerical | degrees (deg) | how tilted the plane of the orbit is |\n",
    "| w           | Argument of perihelion | Numerical | degrees (deg) | how tilted the orbit is with respect to its foci closest to the sun |\n",
    "| ad          | Aphelion distance | Numerical | astronomical units (au) | furthest approach to the sun |\n",
    "| tp.cal      | Time of perihelion passage | Numerical | Barycentric Dynamical Time (TDB) | defines when the comet reaches its perihelion |\n",
    "| per.y       | Sidereal orbit period | Numerical | years | how long one orbit takes |\n",
    "| class       | Orbit classification | Categorical | 6 types (Comet COM, Chiron-type CTc, Encke-type ETc, Halley-type HTC, Jupiter-family JFc defined in relation to Jupiter's period, Jupiter-family JFC based on direct period) |\n",
    "| n_obs_used  | Number of observations of all types used in fit | Numerical | observations | \n",
    "| M1          | Comet total magnitude parameter | Numerical | magnitudes | brightness of the comet as a whole\n",
    "| K1          | Comet total magnitude slope parameter | Numerical | magnitudes | characterizes whole comet brightness over time |\n",
    "| M2          | Comet nuclear magnitude parameter | Numerical | magnitudes | brightness of the comet's core |\n",
    "| K2          | Comet nuclear magnitude slope parameter | Numerical | magnitudes | characterizes comet core brightness over time |\n",
    "| rot_per     | Rotation period | Numerical | hours (h) | time it takes for the comet to rotate about its axis |"
   ]
  },
  {
   "cell_type": "code",
   "execution_count": null,
   "metadata": {},
   "outputs": [],
   "source": [
    "# custom function to print information about any particular numerical column\n",
    "def num_info(array):\n",
    "    \"\"\"\n",
    "    Given an array of numerical data, print the number of values, number of nonzero values, number of NaNs, min value, and max value.\n",
    "    \"\"\"\n",
    "    print('\\t Total values in dataset:', np.size(array))\n",
    "    print('\\t Nonzero values in dataset:', np.count_nonzero(array))\n",
    "    print('\\t NaN values in dataset:', np.count_nonzero(np.isnan(array)))\n",
    "    print('\\t Min value:', np.nanmin(array))\n",
    "    print('\\t Max value:', np.nanmax(array))"
   ]
  },
  {
   "cell_type": "code",
   "execution_count": null,
   "metadata": {},
   "outputs": [],
   "source": [
    "# exploration of orbital period\n",
    "orb_per = data['per.y'].values\n",
    "print('SIDEREAL ORBITAL PERIOD')\n",
    "num_info(orb_per)"
   ]
  },
  {
   "cell_type": "code",
   "execution_count": null,
   "metadata": {},
   "outputs": [],
   "source": [
    "# exploration of perihelion distance\n",
    "per_dist = data['q'].values\n",
    "\n",
    "print('PERIHELION DISTANCE')\n",
    "num_info(per_dist)"
   ]
  },
  {
   "cell_type": "code",
   "execution_count": null,
   "metadata": {},
   "outputs": [],
   "source": [
    "# exploration of aphelion distance \n",
    "aph_dist = data['ad'].values\n",
    "\n",
    "print('APHELION DISTANCE')\n",
    "num_info(aph_dist)"
   ]
  },
  {
   "cell_type": "code",
   "execution_count": null,
   "metadata": {},
   "outputs": [],
   "source": [
    "# exploration of orbital classification - categorical data\n",
    "orb_class = data['class'].values\n",
    "print('Total values in dataset:', np.size(orb_class))\n",
    "print('Unique values in dataset:', np.unique(orb_class))"
   ]
  },
  {
   "cell_type": "code",
   "execution_count": null,
   "metadata": {},
   "outputs": [],
   "source": [
    "# exploration of total magnitude\n",
    "m1 = data['M1'].values\n",
    "print('TOTAL MAGNITUDE')\n",
    "num_info(m1)"
   ]
  },
  {
   "cell_type": "code",
   "execution_count": null,
   "metadata": {
    "scrolled": true
   },
   "outputs": [],
   "source": [
    "# exploration of nuclear magnitude\n",
    "m2 = data['M2'].values\n",
    "print('NUCLEAR MAGNITUDE')\n",
    "num_info(m2)"
   ]
  },
  {
   "cell_type": "code",
   "execution_count": null,
   "metadata": {},
   "outputs": [],
   "source": [
    "# exploration of how many observations went into orbit fits\n",
    "obs = data['n_obs_used'].values\n",
    "print('NUMBER OF OBSERVATIONS USED FOR FITTING')\n",
    "num_info(obs)"
   ]
  },
  {
   "cell_type": "markdown",
   "metadata": {},
   "source": [
    "## Histograms and distributions"
   ]
  },
  {
   "cell_type": "code",
   "execution_count": null,
   "metadata": {},
   "outputs": [],
   "source": [
    "# perihelion and aphelion exploration\n",
    "\n",
    "plt.figure(figsize=(10,5))\n",
    "\n",
    "# perihelion distance histogram and distribution\n",
    "plt.subplot(1,2,1)\n",
    "plt.title('Perihelion distance')\n",
    "plt.ylabel('frequency in dataset')\n",
    "plt.xlabel('astronomical units (au)')\n",
    "b = np.arange(np.nanmin(per_dist), np.nanmax(per_dist)+1)\n",
    "plt.hist(per_dist, bins=100, label='100 bins');\n",
    "plt.legend(frameon=False)\n",
    "\n",
    "print('perihelion mean:', np.nanmean(per_dist), 'au')\n",
    "print('perihelion std:', np.nanstd(per_dist), 'au')\n",
    "\n",
    "# aphelion distance histogram and distribution\n",
    "plt.subplot(1,2,2)\n",
    "plt.title('Aphelion distance')\n",
    "plt.ylabel('frequency in dataset')\n",
    "plt.xlabel('astronomical units (au)')\n",
    "b = np.arange(np.nanmin(aph_dist), np.nanmax(aph_dist)+1)\n",
    "plt.yscale('log')\n",
    "plt.hist(aph_dist, bins=b, label=str(b.size)+'bins');\n",
    "plt.legend(frameon=False)\n",
    "\n",
    "print('aphelion mean:', np.nanmean(aph_dist), 'au')\n",
    "print('aphelion std:', np.nanstd(aph_dist), 'au')"
   ]
  },
  {
   "cell_type": "code",
   "execution_count": null,
   "metadata": {},
   "outputs": [],
   "source": [
    "# orbital period and classification exploration\n",
    "\n",
    "plt.figure(figsize=(10,5))\n",
    "\n",
    "# orbital classification histogram\n",
    "plt.subplot(1,2,1)\n",
    "plt.title('Orbit classifications')\n",
    "plt.ylabel('frequency in dataset')\n",
    "plt.xlabel('abbreviated orbit classes')\n",
    "b = np.arange(0, np.size(np.unique(orb_class))+1)\n",
    "#plt.yscale('log')\n",
    "plt.hist(orb_class, bins=b);\n",
    "\n",
    "# orbital period histogram\n",
    "plt.subplot(1,2,2)\n",
    "plt.title('Sidereal orbital period')\n",
    "plt.ylabel('frequency in dataset')\n",
    "plt.xlabel('years')\n",
    "plt.xscale('log')\n",
    "b = np.arange(np.nanmin(orb_per), np.nanmax(orb_per)+1)\n",
    "plt.hist(orb_per, bins=b, label=str(b.size)+' bins');\n",
    "plt.legend(frameon=False)"
   ]
  },
  {
   "cell_type": "code",
   "execution_count": null,
   "metadata": {},
   "outputs": [],
   "source": [
    "print('Frequency of orbital classes in dataset')\n",
    "print('COM:',np.size(np.where(orb_class == 'COM')))\n",
    "print('CTc:',np.size(np.where(orb_class == 'CTc')))\n",
    "print('ETc:',np.size(np.where(orb_class == 'ETc')))\n",
    "print('HTC:',np.size(np.where(orb_class == 'HTC')))\n",
    "print('JFc:',np.size(np.where(orb_class == 'JFc')))\n",
    "print('JFC:',np.size(np.where(orb_class == 'JFC')))"
   ]
  },
  {
   "cell_type": "code",
   "execution_count": null,
   "metadata": {},
   "outputs": [],
   "source": [
    "# total and nuclear magnitude exploration\n",
    "\n",
    "plt.figure(figsize=(10,5))\n",
    "\n",
    "# total magnitude histogram\n",
    "plt.subplot(1,2,1)\n",
    "plt.title('Total comet magnitude')\n",
    "plt.ylabel('frequency in dataset')\n",
    "plt.xlabel('magnitudes')\n",
    "b = np.arange(np.nanmin(m1), np.nanmax(m1)+1)\n",
    "plt.gca().invert_xaxis() # higher mag = dimmer; smaller mag = brighter\n",
    "plt.hist(m1, bins=b, label=str(b.size)+' bins');\n",
    "plt.legend(frameon=False)\n",
    "\n",
    "print('total magnitude mean:', np.nanmean(m1))\n",
    "print('total magnitude std:', np.nanstd(m1))\n",
    "\n",
    "# nuclear magnitude histogram\n",
    "plt.subplot(1,2,2)\n",
    "plt.title('Comet nuclear magnitude')\n",
    "plt.ylabel('frequency in dataset')\n",
    "plt.xlabel('magnitudes')\n",
    "b = np.arange(np.nanmin(m2), np.nanmax(m2)+1)\n",
    "plt.gca().invert_xaxis()\n",
    "plt.hist(m2, bins=b, label=str(b.size)+' bins');\n",
    "plt.legend(frameon=False)\n",
    "\n",
    "print('nuclear magnitude mean:', np.nanmean(m2))\n",
    "print('nuclear magnitude std:', np.nanstd(m2))"
   ]
  },
  {
   "cell_type": "markdown",
   "metadata": {},
   "source": [
    "## Investigations"
   ]
  },
  {
   "cell_type": "markdown",
   "metadata": {},
   "source": [
    "Is comet brightness related to either orbital period or aphelion and perihelion distances, and are there different relationships for total comet magnitude versus nuclear magnitude?"
   ]
  },
  {
   "cell_type": "code",
   "execution_count": null,
   "metadata": {},
   "outputs": [],
   "source": [
    "# separate into populations based on orbital class\n",
    "COM = filter(data, 'class', 'COM')\n",
    "CTc = filter(data, 'class', 'CTc')\n",
    "ETc = filter(data, 'class', 'ETc')\n",
    "HTC = filter(data, 'class', 'HTC')\n",
    "JFc = filter(data, 'class', 'JFc')\n",
    "JFC = filter(data, 'class', 'JFC')"
   ]
  },
  {
   "cell_type": "code",
   "execution_count": null,
   "metadata": {},
   "outputs": [],
   "source": [
    "# scatterplot of aphelion vs perihelion, separated by orbit class\n",
    "\n",
    "plt.ylabel('perihelion distance')\n",
    "plt.xlabel('aphelion distance')\n",
    "plt.xscale('log')\n",
    "plt.scatter(COM['ad'].values, COM['q'].values, alpha=0.5, marker='*', label='COM')\n",
    "plt.scatter(CTc['ad'].values, CTc['q'].values, alpha=0.5, marker='*', label='CTc')\n",
    "plt.scatter(ETc['ad'].values, ETc['q'].values, alpha=0.5, marker='*', label='ETc')\n",
    "plt.scatter(HTC['ad'].values, HTC['q'].values, alpha=0.5, marker='*', label='HTC')\n",
    "plt.scatter(JFc['ad'].values, JFc['q'].values, alpha=0.5, marker='*', label='JFc')\n",
    "plt.scatter(JFC['ad'].values, JFC['q'].values, alpha=0.5, marker='*', label='JFC')\n",
    "plt.legend(frameon=False)"
   ]
  },
  {
   "cell_type": "code",
   "execution_count": null,
   "metadata": {},
   "outputs": [],
   "source": [
    "# arrays of number of observations for different classes\n"
   ]
  },
  {
   "cell_type": "code",
   "execution_count": null,
   "metadata": {
    "scrolled": false
   },
   "outputs": [],
   "source": [
    "# exploratory plots of different combos of magnitudes and distances\n",
    "# separated by orbital class\n",
    "\n",
    "plt.figure(figsize=(10,10))\n",
    "\n",
    "plt.subplot(2,2,1)\n",
    "plt.title('total magnitude and aphelion distance')\n",
    "plt.xlabel('total magnitude')\n",
    "plt.ylabel('aphelion distance in au')\n",
    "plt.yscale('log')\n",
    "plt.scatter(COM['M1'].values, COM['ad'].values, s=0.01*COM['n_obs_used'].values, alpha=0.5, marker='*', label='COM')\n",
    "plt.scatter(CTc['M1'].values, CTc['ad'].values, s=0.01*CTc['n_obs_used'].values,alpha=0.5, marker='*', label='CTc')\n",
    "plt.scatter(ETc['M1'].values, ETc['ad'].values, s=0.01*ETc['n_obs_used'].values,alpha=0.5, marker='*', label='ETc')\n",
    "plt.scatter(HTC['M1'].values, HTC['ad'].values, s=0.01*HTC['n_obs_used'].values,alpha=0.5, marker='*', label='HTC')\n",
    "plt.scatter(JFc['M1'].values, JFc['ad'].values, s=0.01*JFc['n_obs_used'].values,alpha=0.5, marker='*', label='JFc')\n",
    "plt.scatter(JFC['M1'].values, JFC['ad'].values, s=0.01*JFC['n_obs_used'].values,alpha=0.5, marker='*', label='JFC')\n",
    "plt.legend(frameon=False)\n",
    "\n",
    "plt.subplot(2,2,2)\n",
    "plt.title('nuclear magnitude and aphelion distance')\n",
    "plt.xlabel('nuclear magnitude')\n",
    "plt.ylabel('aphelion distance in au')\n",
    "plt.yscale('log')\n",
    "plt.scatter(COM['M2'].values, COM['ad'].values, s=0.01*COM['n_obs_used'].values, alpha=0.5, marker='*', label='COM')\n",
    "plt.scatter(CTc['M2'].values, CTc['ad'].values, s=0.01*CTc['n_obs_used'].values,alpha=0.5, marker='*', label='CTc')\n",
    "plt.scatter(ETc['M2'].values, ETc['ad'].values, s=0.01*ETc['n_obs_used'].values,alpha=0.5, marker='*', label='ETc')\n",
    "plt.scatter(HTC['M2'].values, HTC['ad'].values, s=0.01*HTC['n_obs_used'].values,alpha=0.5, marker='*', label='HTC')\n",
    "plt.scatter(JFc['M2'].values, JFc['ad'].values, s=0.01*JFc['n_obs_used'].values,alpha=0.5, marker='*', label='JFc')\n",
    "plt.scatter(JFC['M2'].values, JFC['ad'].values, s=0.01*JFC['n_obs_used'].values,alpha=0.5, marker='*', label='JFC')\n",
    "plt.legend(frameon=False)\n",
    "\n",
    "plt.subplot(2,2,3)\n",
    "plt.title('total magnitude and perihelion distance')\n",
    "plt.xlabel('total magnitude')\n",
    "plt.ylabel('perihelion distance in au')\n",
    "plt.yscale('log')\n",
    "plt.scatter(COM['M1'].values, COM['q'].values, s=0.01*COM['n_obs_used'].values, alpha=0.5, marker='*', label='COM')\n",
    "plt.scatter(CTc['M1'].values, CTc['q'].values, s=0.01*CTc['n_obs_used'].values,alpha=0.5, marker='*', label='CTc')\n",
    "plt.scatter(ETc['M1'].values, ETc['q'].values, s=0.01*ETc['n_obs_used'].values,alpha=0.5, marker='*', label='ETc')\n",
    "plt.scatter(HTC['M1'].values, HTC['q'].values, s=0.01*HTC['n_obs_used'].values,alpha=0.5, marker='*', label='HTC')\n",
    "plt.scatter(JFc['M1'].values, JFc['q'].values, s=0.01*JFc['n_obs_used'].values,alpha=0.5, marker='*', label='JFc')\n",
    "plt.scatter(JFC['M1'].values, JFC['q'].values, s=0.01*JFC['n_obs_used'].values,alpha=0.5, marker='*', label='JFC')\n",
    "plt.legend(frameon=False)\n",
    "\n",
    "plt.subplot(2,2,4)\n",
    "plt.title('nuclear magnitude and perihelion distance')\n",
    "plt.xlabel('nuclear magnitude')\n",
    "plt.ylabel('perihelion distance in au')\n",
    "plt.yscale('log')\n",
    "plt.scatter(COM['M2'].values, COM['q'].values, s=0.01*COM['n_obs_used'].values, alpha=0.5, marker='*', label='COM')\n",
    "plt.scatter(CTc['M2'].values, CTc['q'].values, s=0.01*CTc['n_obs_used'].values,alpha=0.5, marker='*', label='CTc')\n",
    "plt.scatter(ETc['M2'].values, ETc['q'].values, s=0.01*ETc['n_obs_used'].values,alpha=0.5, marker='*', label='ETc')\n",
    "plt.scatter(HTC['M2'].values, HTC['q'].values, s=0.01*HTC['n_obs_used'].values,alpha=0.5, marker='*', label='HTC')\n",
    "plt.scatter(JFc['M2'].values, JFc['q'].values, s=0.01*JFc['n_obs_used'].values,alpha=0.5, marker='*', label='JFc')\n",
    "plt.scatter(JFC['M2'].values, JFC['q'].values, s=0.01*JFC['n_obs_used'].values,alpha=0.5, marker='*', label='JFC')\n",
    "plt.legend(frameon=False)"
   ]
  },
  {
   "cell_type": "markdown",
   "metadata": {},
   "source": [
    "### The aphelion vs magnitude plots show a clear cutoff between orbit classes. This indicates a relationship between aphelion and orbital period."
   ]
  },
  {
   "cell_type": "code",
   "execution_count": null,
   "metadata": {},
   "outputs": [],
   "source": [
    "# scatterplot of orbital period vs perihelion and aphelion distances\n",
    "\n",
    "plt.figure(figsize=(12,5))\n",
    "\n",
    "plt.subplot(1,2,1)\n",
    "plt.xlabel('sidereal orbital period [years]')\n",
    "plt.ylabel('perihelion distance [au]')\n",
    "plt.semilogx(orb_per, per_dist, '*')\n",
    "\n",
    "plt.subplot(1,2,2)\n",
    "plt.xlabel('sidereal orbital period [years]')\n",
    "plt.ylabel('aphelion distance [au]')\n",
    "plt.semilogx(orb_per, aph_dist, '*')"
   ]
  },
  {
   "cell_type": "code",
   "execution_count": null,
   "metadata": {},
   "outputs": [],
   "source": [
    "# Kepler's third law: \n",
    "# square of orbital period is proportional to cube of semi-major axis\n",
    "\n",
    "# aphelion distance is approximately equal to semi-major axis\n",
    "\n",
    "# plot to check whether this is the relationship shown\n",
    "kep_x = np.arange(np.nanmin(orb_per), np.nanmax(orb_per), 0.01)\n",
    "kep_aph_dist = kep_x ** (2/3)\n",
    "\n",
    "plt.title('Kepler\\'s 3rd law with comets')\n",
    "plt.xlabel('sidereal orbital period P [years]')\n",
    "plt.ylabel('aphelion distance d [au]')\n",
    "plt.semilogx(orb_per, aph_dist, 'b*', label='data')\n",
    "plt.semilogx(kep_x, kep_aph_dist, label='d = P$^{2/3}$')\n",
    "plt.semilogx(kep_x, 1.5*kep_aph_dist, label='d = 1.5 P$^{2/3}$')\n",
    "plt.semilogx(kep_x, 2*kep_aph_dist, label='d = 2 P$^{2/3}$')\n",
    "plt.legend(frameon=False)"
   ]
  },
  {
   "cell_type": "markdown",
   "metadata": {},
   "source": [
    "### Looks like the comets in this dataset obey Kepler's third law with proportionality constant between 1 and 2."
   ]
  },
  {
   "cell_type": "code",
   "execution_count": null,
   "metadata": {},
   "outputs": [],
   "source": [
    "# exploratory plots of different combos of magnitudes and distances\n",
    "# separated by orbital class\n",
    "\n",
    "# plot repeated here as a reminder\n",
    "\n",
    "plt.figure(figsize=(10,10))\n",
    "\n",
    "plt.subplot(2,2,1)\n",
    "plt.title('total magnitude and aphelion distance')\n",
    "plt.xlabel('total magnitude')\n",
    "plt.ylabel('aphelion distance in au')\n",
    "plt.yscale('log')\n",
    "plt.scatter(COM['M1'].values, COM['ad'].values, alpha=0.5, marker='*', label='COM')\n",
    "plt.scatter(CTc['M1'].values, CTc['ad'].values, alpha=0.5, marker='*', label='CTc')\n",
    "plt.scatter(ETc['M1'].values, ETc['ad'].values, alpha=0.5, marker='*', label='ETc')\n",
    "plt.scatter(HTC['M1'].values, HTC['ad'].values, alpha=0.5, marker='*', label='HTC')\n",
    "plt.scatter(JFc['M1'].values, JFc['ad'].values, alpha=0.5, marker='*', label='JFc')\n",
    "plt.scatter(JFC['M1'].values, JFC['ad'].values, alpha=0.5, marker='*', label='JFC')\n",
    "plt.legend(frameon=False)\n",
    "\n",
    "plt.subplot(2,2,2)\n",
    "plt.title('nuclear magnitude and aphelion distance')\n",
    "plt.xlabel('nuclear magnitude')\n",
    "plt.ylabel('aphelion distance in au')\n",
    "plt.yscale('log')\n",
    "plt.scatter(COM['M2'].values, COM['ad'].values, alpha=0.5, marker='*', label='COM')\n",
    "plt.scatter(CTc['M2'].values, CTc['ad'].values, alpha=0.5, marker='*', label='CTc')\n",
    "plt.scatter(ETc['M2'].values, ETc['ad'].values, alpha=0.5, marker='*', label='ETc')\n",
    "plt.scatter(HTC['M2'].values, HTC['ad'].values, alpha=0.5, marker='*', label='HTC')\n",
    "plt.scatter(JFc['M2'].values, JFc['ad'].values, alpha=0.5, marker='*', label='JFc')\n",
    "plt.scatter(JFC['M2'].values, JFC['ad'].values, alpha=0.5, marker='*', label='JFC')\n",
    "plt.legend(frameon=False)\n",
    "\n",
    "plt.subplot(2,2,3)\n",
    "plt.title('total magnitude and perihelion distance')\n",
    "plt.xlabel('total magnitude')\n",
    "plt.ylabel('perihelion distance in au')\n",
    "plt.yscale('log')\n",
    "plt.scatter(COM['M1'].values, COM['q'].values, alpha=0.5, marker='*', label='COM')\n",
    "plt.scatter(CTc['M1'].values, CTc['q'].values, alpha=0.5, marker='*', label='CTc')\n",
    "plt.scatter(ETc['M1'].values, ETc['q'].values, alpha=0.5, marker='*', label='ETc')\n",
    "plt.scatter(HTC['M1'].values, HTC['q'].values, alpha=0.5, marker='*', label='HTC')\n",
    "plt.scatter(JFc['M1'].values, JFc['q'].values, alpha=0.5, marker='*', label='JFc')\n",
    "plt.scatter(JFC['M1'].values, JFC['q'].values, alpha=0.5, marker='*', label='JFC')\n",
    "plt.legend(frameon=False)\n",
    "\n",
    "plt.subplot(2,2,4)\n",
    "plt.title('nuclear magnitude and perihelion distance')\n",
    "plt.xlabel('nuclear magnitude')\n",
    "plt.ylabel('perihelion distance in au')\n",
    "plt.yscale('log')\n",
    "plt.scatter(COM['M2'].values, COM['q'].values, alpha=0.5, marker='*', label='COM')\n",
    "plt.scatter(CTc['M2'].values, CTc['q'].values, alpha=0.5, marker='*', label='CTc')\n",
    "plt.scatter(ETc['M2'].values, ETc['q'].values, alpha=0.5, marker='*', label='ETc')\n",
    "plt.scatter(HTC['M2'].values, HTC['q'].values, alpha=0.5, marker='*', label='HTC')\n",
    "plt.scatter(JFc['M2'].values, JFc['q'].values, alpha=0.5, marker='*', label='JFc')\n",
    "plt.scatter(JFC['M2'].values, JFC['q'].values, alpha=0.5, marker='*', label='JFC')\n",
    "plt.legend(frameon=False)"
   ]
  },
  {
   "cell_type": "markdown",
   "metadata": {},
   "source": [
    "### The perihelion vs magnitude plots show a potentially curve-fittable relationship, with the same trend but different slopes for nuclear magnitude and total magnitude."
   ]
  },
  {
   "cell_type": "code",
   "execution_count": null,
   "metadata": {},
   "outputs": [],
   "source": [
    "# scatterplot of nuclear magnitude vs total magnitude\n",
    "plt.title('total magnitude and nuclear magnitude')\n",
    "plt.xlabel('total magnitude')\n",
    "plt.ylabel('nuclear magnitude')\n",
    "plt.scatter(COM['M1'].values, COM['M2'].values, alpha=0.5, marker='*', label='COM')\n",
    "plt.scatter(CTc['M1'].values, CTc['M2'].values, alpha=0.5, marker='*', label='CTc')\n",
    "plt.scatter(ETc['M1'].values, ETc['M2'].values, alpha=0.5, marker='*', label='ETc')\n",
    "plt.scatter(HTC['M1'].values, HTC['M2'].values, alpha=0.5, marker='*', label='HTC')\n",
    "plt.scatter(JFc['M1'].values, JFc['M2'].values, alpha=0.5, marker='*', label='JFc')\n",
    "plt.scatter(JFC['M1'].values, JFC['M2'].values, alpha=0.5, marker='*', label='JFC')\n",
    "plt.legend(frameon=False)"
   ]
  },
  {
   "cell_type": "code",
   "execution_count": null,
   "metadata": {
    "scrolled": true
   },
   "outputs": [],
   "source": [
    "# curve-fitting to describe relationship between nuclear and total magnitude\n",
    "quad = lambda x,a,b,c: a*(x**2) + b*x + c\n",
    "\n",
    "mask_mag = ~np.isnan(m1) & ~np.isnan(m2)\n",
    "m1_nonan = m1[mask_mag]\n",
    "m2_nonan = m2[mask_mag]\n",
    "\n",
    "\n",
    "fit = curve_fit(quad, m1_nonan, m2_nonan)\n",
    "qfit_x = np.arange(np.nanmin(m1_nonan), np.nanmax(m1_nonan), 0.01)\n",
    "qfit = quad(qfit_x, fit[0][0], fit[0][1], fit[0][2])\n",
    "\n",
    "qfit_resids = m2_nonan - quad(m1_nonan, fit[0][0], fit[0][1], fit[0][2])\n",
    "\n",
    "plt.figure(figsize=(10,4))\n",
    "\n",
    "plt.subplot(1,2,2)\n",
    "plt.title('residuals')\n",
    "plt.xlabel('total magnitude')\n",
    "plt.ylabel('difference between fit and data')\n",
    "plt.plot(m1_nonan, qfit_resids, '*')\n",
    "plt.axhline(0, ls='--')\n",
    "\n",
    "plt.subplot(1,2,1)\n",
    "plt.title('curvefit')\n",
    "plt.xlabel('total magnitude')\n",
    "plt.ylabel('nuclear magnitude')\n",
    "plt.plot(m1_nonan, m2_nonan, '*',alpha=0.75, label='database')\n",
    "plt.plot(qfit_x, qfit, 'r-',label=f'y={fit[0][0]:6.4}x$^2$+{fit[0][1]:6.4}x+{fit[0][2]:6.4}')\n",
    "plt.legend(frameon=False)"
   ]
  },
  {
   "cell_type": "code",
   "execution_count": null,
   "metadata": {},
   "outputs": [],
   "source": [
    "# define a function for nuclear magnitude from total magnitude\n",
    "def nuc_from_total(tot, fit_param):\n",
    "    \"\"\"\n",
    "    Takes an array of total magnitudes and an array of quadratic fit parameters.\n",
    "    Returns calculated array of nuclear magnitudes.\n",
    "    \"\"\"\n",
    "    return quad(tot, fit_param[0][0], fit_param[0][1], fit_param[0][2])"
   ]
  },
  {
   "cell_type": "code",
   "execution_count": null,
   "metadata": {
    "scrolled": true
   },
   "outputs": [],
   "source": [
    "# curve-fitting to describe relation between perihelion and nuclear magnitude\n",
    "\n",
    "lin = lambda x,a,b: a*x + b\n",
    "\n",
    "mask_per = ~np.isnan(m2) & ~np.isnan(per_dist)\n",
    "m2_nonan_per = m2[mask_per]\n",
    "per_dist_nonan = per_dist[mask_per]\n",
    "\n",
    "fit_lin = curve_fit(lin, m2_nonan_per, per_dist_nonan)\n",
    "fit_quad = curve_fit(quad, m2_nonan_per, per_dist_nonan)\n",
    "fit_log = curve_fit(lin, m2_nonan_per, np.log10(per_dist_nonan))\n",
    "\n",
    "fit_x = np.arange(np.nanmin(m2_nonan_per), np.nanmax(m2_nonan_per), 0.01)\n",
    "\n",
    "lfit = lin(fit_x, fit_lin[0][0], fit_lin[0][1])\n",
    "qfit = quad(fit_x, fit_quad[0][0], fit_quad[0][1], fit_quad[0][2])\n",
    "logfit = lin(fit_x, fit_log[0][0], fit_log[0][1])\n",
    "\n",
    "lfit_resids = per_dist_nonan - lin(m2_nonan_per, fit_lin[0][0], fit_lin[0][1])\n",
    "qfit_resids = per_dist_nonan - quad(m2_nonan_per, fit_quad[0][0], fit_quad[0][1], fit_quad[0][2])\n",
    "logfit_resids = per_dist_nonan - 10**(lin(m2_nonan_per, fit_log[0][0], fit_log[0][1]))"
   ]
  },
  {
   "cell_type": "code",
   "execution_count": null,
   "metadata": {},
   "outputs": [],
   "source": [
    "plt.figure(figsize=(20,6))\n",
    "\n",
    "plt.subplot(1,3,3)\n",
    "plt.title('residuals')\n",
    "plt.ylabel('difference between data and fit')\n",
    "plt.xlabel('nuclear magnitude m2')\n",
    "plt.plot(m2_nonan_per, lfit_resids, 'c*', alpha=0.75, label='linear fit residuals')\n",
    "plt.plot(m2_nonan_per, qfit_resids, 'm*', alpha=0.75, label='quad fit residuals')\n",
    "plt.plot(m2_nonan_per, logfit_resids, 'b*', label='log fit residuals')\n",
    "plt.axhline(0, ls='--')\n",
    "plt.legend(frameon=False)\n",
    "\n",
    "plt.subplot(1,3,1)\n",
    "plt.title('fitting on a linear scale')\n",
    "plt.ylabel('perihelion distance in au')\n",
    "plt.xlabel('nuclear magnitude m2')\n",
    "plt.plot(m2_nonan_per, per_dist_nonan, '*',alpha=0.75, label='database')\n",
    "plt.plot(fit_x, lfit, 'c-',label=f'y={fit_lin[0][0]:6.4}x+{fit_lin[0][1]:6.4}')\n",
    "plt.plot(fit_x, qfit, 'm-',label=f'y={fit_quad[0][0]:6.4}x$^2$+{fit_quad[0][1]:6.4}x+{fit_quad[0][2]:6.4}')\n",
    "plt.plot(fit_x, 10**logfit, 'b-', label=f'log$_1$$_0$(y)={fit_log[0][0]:6.4}x+{fit_log[0][1]:6.4}')\n",
    "\n",
    "plt.legend(frameon=False)\n",
    "\n",
    "plt.subplot(1,3,2)\n",
    "plt.title('fitting on a log scale')\n",
    "plt.ylabel('perihelion distance in au')\n",
    "plt.xlabel('nuclear magnitude m2')\n",
    "plt.yscale('log')\n",
    "plt.plot(m2_nonan_per, per_dist_nonan, '*',alpha=0.75, label='database')\n",
    "plt.plot(fit_x, lfit, 'c-',label=f'y={fit_lin[0][0]:6.4}x+{fit_lin[0][1]:6.4}')\n",
    "plt.plot(fit_x, qfit, 'm-',label=f'y={fit_quad[0][0]:6.4}x$^2$+{fit_quad[0][1]:6.4}x+{fit_quad[0][2]:6.4}')\n",
    "plt.plot(fit_x, 10**logfit, 'b-', label=f'log$_1$$_0$(y)={fit_log[0][0]:6.4}x+{fit_log[0][1]:6.4}')\n",
    "plt.legend(frameon=False)"
   ]
  },
  {
   "cell_type": "markdown",
   "metadata": {},
   "source": [
    "## None of the fits are significantly better than the others because there is so much spread in the data. Linear fit seems to have the best residuals - log fit skews high, quad fit skews low. Visually, though, I think log fit matches the shape of the data best."
   ]
  },
  {
   "cell_type": "markdown",
   "metadata": {},
   "source": [
    "### Monte Carlo simulation, assuming uniform probability of perihelion distances and a linear relationship between nuclear magnitude and perihelion distances"
   ]
  },
  {
   "cell_type": "code",
   "execution_count": null,
   "metadata": {},
   "outputs": [],
   "source": [
    "def bestfits(n, xvals, yvals):\n",
    "    \"\"\"\n",
    "    Draw an arbitrary number of random points from the distribution\n",
    "    Return an array of best fit slopes and correlation coefficients\n",
    "    \"\"\"\n",
    "    covmat = np.cov(xvals, yvals)\n",
    "    num_pts = xvals.size\n",
    "    slopes = np.zeros(n)\n",
    "    r_vals = np.zeros(n)\n",
    "    y_ints = np.zeros(n)\n",
    "\n",
    "    for i in range(n):\n",
    "        xval_calc, yval_calc = np.random.multivariate_normal((np.mean(xvals), np.mean(yvals)), covmat, num_pts).T\n",
    "        r_vals[i], pval = stats.pearsonr(xval_calc, yval_calc)\n",
    "\n",
    "        lin = lambda x,a,b: a*x + b\n",
    "        (slopes[i], y_ints[i]), cov = opt.curve_fit(lin, xval_calc, yval_calc)\n",
    "\n",
    "    return (slopes, r_vals)"
   ]
  },
  {
   "cell_type": "code",
   "execution_count": null,
   "metadata": {},
   "outputs": [],
   "source": [
    "fit_slope = fit_lin[0][0]\n",
    "test_mags = bestfits(1000, m2_nonan_per, per_dist_nonan)\n",
    "test_slope = np.mean(test_mags[0])\n",
    "\n",
    "b=np.arange(np.min(test_mags[0]), np.max(test_mags[0]),0.01).size\n",
    "\n",
    "plt.figure(figsize=(8,4))\n",
    "\n",
    "plt.title('Monte Carlo simulation: \\n slopes of linear relation between nuclear magnitude and perihelion distance')\n",
    "plt.ylabel('frequency')\n",
    "plt.xlabel('slope')\n",
    "plt.xlim([-0.5,0])\n",
    "plt.hist(test_mags[0], label='random slope distribution; '+str(b)+' bins', bins=b)\n",
    "plt.axvline(test_slope, c='b',label='distribution mean = '+str(np.round(test_slope,4)))\n",
    "plt.axvline(fit_slope, c='r', label='slope fit to original data = '+str(np.round(fit_slope,4)))\n",
    "plt.legend(frameon=False)\n",
    "\n",
    "print('random slope distribution mean:', np.round(test_slope,4))\n",
    "print('original data fit slope:', np.round(fit_slope,4))"
   ]
  },
  {
   "cell_type": "markdown",
   "metadata": {},
   "source": [
    "### This produces a random distribution of nuclear magnitudes and perihelion distances with linear fits with normally-distributed slopes. The mean of the distribution is very similar to the slope of the line fit to the original data."
   ]
  },
  {
   "cell_type": "code",
   "execution_count": null,
   "metadata": {},
   "outputs": [],
   "source": [
    "# define a function for perihelion distance from nuclear magnitude\n",
    "def per_from_nuc(nuc, fit_param):\n",
    "    \"\"\"\n",
    "    Takes an array of nuclear magnitudes and an array of fit parameters.\n",
    "    Uses log fit defined earlier in notebook.\n",
    "    Returns calculated array of perihelion distances.\n",
    "    \"\"\"\n",
    "    return 10**(lin(nuc, fit_param[0][0], fit_param[0][1]))"
   ]
  },
  {
   "cell_type": "code",
   "execution_count": null,
   "metadata": {},
   "outputs": [],
   "source": [
    "# calculate what perihelion distances should be based on total magntidues -- this is model 1\n",
    "calc_nuc_mag = nuc_from_total(m1_nonan, fit)\n",
    "calc_peri = per_from_nuc(calc_nuc_mag, fit_log)"
   ]
  },
  {
   "cell_type": "code",
   "execution_count": null,
   "metadata": {},
   "outputs": [],
   "source": [
    "# plot calculated perihelion distances vs total magnitudes and actual perihelion distances vs total magnitudes\n",
    "plt.figure(figsize=(8,6))\n",
    "plt.title('Calculated model compared to actual data')\n",
    "plt.ylabel('perihelion distance [au]')\n",
    "plt.xlabel('total magnitude')\n",
    "plt.scatter(m1, per_dist, label='dataset')\n",
    "plt.scatter(m1_nonan, calc_peri, label='calculated from log model')\n",
    "plt.legend(frameon=False)"
   ]
  },
  {
   "cell_type": "markdown",
   "metadata": {},
   "source": [
    "## Visually, this looks like a pretty good match! That suggests that the different relationships between perihelion distance and the two types of magnitude ARE an artifact of the relationship between total and nuclear magnitude."
   ]
  },
  {
   "cell_type": "code",
   "execution_count": null,
   "metadata": {},
   "outputs": [],
   "source": [
    "# curve-fit relationship between actual perihelion distance and total magnitude -- this is model 2\n"
   ]
  },
  {
   "cell_type": "code",
   "execution_count": null,
   "metadata": {},
   "outputs": [],
   "source": [
    "# bayes/hypothesis test between the two models - is there agreement between the two?"
   ]
  }
 ],
 "metadata": {
  "colab": {
   "name": "Week10Prelab.ipynb",
   "provenance": []
  },
  "kernelspec": {
   "display_name": "Python 3",
   "language": "python",
   "name": "python3"
  },
  "language_info": {
   "codemirror_mode": {
    "name": "ipython",
    "version": 3
   },
   "file_extension": ".py",
   "mimetype": "text/x-python",
   "name": "python",
   "nbconvert_exporter": "python",
   "pygments_lexer": "ipython3",
   "version": "3.7.3"
  }
 },
 "nbformat": 4,
 "nbformat_minor": 1
}
